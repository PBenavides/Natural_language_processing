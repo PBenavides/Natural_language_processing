{
  "nbformat": 4,
  "nbformat_minor": 0,
  "metadata": {
    "colab": {
      "name": "Semana03-1 (LSTM).ipynb",
      "provenance": []
    },
    "kernelspec": {
      "name": "python3",
      "display_name": "Python 3"
    },
    "accelerator": "GPU"
  },
  "cells": [
    {
      "cell_type": "code",
      "metadata": {
        "id": "Tj9dgMLZyjQI",
        "colab_type": "code",
        "outputId": "c22af758-0e18-4e38-ed8d-76b5da1b7062",
        "colab": {
          "base_uri": "https://localhost:8080/",
          "height": 34
        }
      },
      "source": [
        "import tensorflow as tf\n",
        "print(tf.__version__)"
      ],
      "execution_count": 1,
      "outputs": [
        {
          "output_type": "stream",
          "text": [
            "2.1.0\n"
          ],
          "name": "stdout"
        }
      ]
    },
    {
      "cell_type": "code",
      "metadata": {
        "id": "jM875BSeLgej",
        "colab_type": "code",
        "colab": {}
      },
      "source": [
        "import json\n",
        "import numpy as np\n",
        "\n",
        "from tensorflow.keras.preprocessing.text import Tokenizer\n",
        "from tensorflow.keras.preprocessing.sequence import pad_sequences"
      ],
      "execution_count": 0,
      "outputs": []
    },
    {
      "cell_type": "code",
      "metadata": {
        "id": "aQDPK67qLj2i",
        "colab_type": "code",
        "colab": {}
      },
      "source": [
        "vocab_size = 10000 # El número de palabras que tendrá mi dicc\n",
        "embedding_dim = 16 # La dimensión de mi embebido\n",
        "max_length = 32 # El núnero máx de palabras por oración\n",
        "trunc_type = 'post' #Cómo lo trunqueo\n",
        "padding_type = 'post' #Cómo lo padeo\n",
        "oov_tok = \"<OOV>\" #Cómo reemplazaré los valores que no aparecieron en train\n",
        "training_size=20000 #Con cuánto de mi data voy a entrenar"
      ],
      "execution_count": 0,
      "outputs": []
    },
    {
      "cell_type": "code",
      "metadata": {
        "id": "8Xx4ZEGjL-zs",
        "colab_type": "code",
        "colab": {
          "base_uri": "https://localhost:8080/",
          "height": 202
        },
        "outputId": "614018f9-4eae-4171-fb1b-299969bc360d"
      },
      "source": [
        "!wget --no-check-certificate \\\n",
        "  https://storage.googleapis.com/laurencemoroney-blog.appspot.com/sarcasm.json \\\n",
        "  -O /tmp/sarcasm.json"
      ],
      "execution_count": 5,
      "outputs": [
        {
          "output_type": "stream",
          "text": [
            "--2020-02-16 18:09:22--  https://storage.googleapis.com/laurencemoroney-blog.appspot.com/sarcasm.json\n",
            "Resolving storage.googleapis.com (storage.googleapis.com)... 173.194.211.128, 2607:f8b0:400c:c06::80\n",
            "Connecting to storage.googleapis.com (storage.googleapis.com)|173.194.211.128|:443... connected.\n",
            "HTTP request sent, awaiting response... 200 OK\n",
            "Length: 5643545 (5.4M) [application/json]\n",
            "Saving to: ‘/tmp/sarcasm.json’\n",
            "\n",
            "\r/tmp/sarcasm.json     0%[                    ]       0  --.-KB/s               \r/tmp/sarcasm.json   100%[===================>]   5.38M  --.-KB/s    in 0.03s   \n",
            "\n",
            "2020-02-16 18:09:22 (167 MB/s) - ‘/tmp/sarcasm.json’ saved [5643545/5643545]\n",
            "\n"
          ],
          "name": "stdout"
        }
      ]
    },
    {
      "cell_type": "code",
      "metadata": {
        "id": "-iUZ_38HMBM7",
        "colab_type": "code",
        "colab": {}
      },
      "source": [
        "#Abrimos el archivo de sarcamos en json y lo leemos declarandolo como datastore\n",
        "with open(\"/tmp/sarcasm.json\",\"r\") as f:\n",
        "  datastore = json.load(f)\n",
        "\n",
        "#Ahora, dividiremos ese archivo en json en diferentes listas... estas listas será las sgtes.\n",
        "sentences = []\n",
        "labels = []\n",
        "urls = []\n",
        "# Como la data está en json, voy a sacarla a listas para poder procesarla con mi Tokenizer\n",
        "for item in datastore:\n",
        "  sentences.append(item['headline'])\n",
        "  labels.append(item['is_sarcastic'])\n",
        "  urls.append(item['article_link'])\n",
        "\n",
        "# Ahora ya tengo mi data en listas, vamos a dividirla en oraciones de entrenamiento y de testeo\n",
        "\n",
        "training_sentences = sentences[0:training_size]\n",
        "testing_sentences = sentences[training_size:]\n",
        "\n",
        "training_labels = np.array(labels[0:training_size])\n",
        "testing_labels = np.array(labels[training_size:])\n",
        "\n",
        "#Hasta acá ya tendría el equivalente a mi X_train, X_test, y_train, y_test\n",
        "#Ahora, los voy a secuenciar y paddear.\n",
        "tokenizer = Tokenizer(num_words=vocab_size, oov_token=oov_tok) #Los tokenizaré (transf a números)\n",
        "tokenizer.fit_on_texts(training_sentences) \n",
        "\n",
        "#Lo convierto a diccionario una vez tokenizado... con .word_index\n",
        "word_index = tokenizer.word_index\n",
        "\n",
        "#Ahora, voy a crear las secuencias...\n",
        "training_sequences = tokenizer.texts_to_sequences(training_sentences)\n",
        "training_sequences[1:5]\n",
        "#Como vemos, son las oraciones tokenizadas de acuerdo al word_index y en unas listas\n",
        "\n",
        "#Ahora vamos a paddear estas tokenizaciones\n",
        "training_padded = pad_sequences(training_sequences, maxlen = max_length, padding = 'post', truncating = trunc_type)\n",
        "\n",
        "testing_sequences = tokenizer.texts_to_sequences(testing_sentences)\n",
        "testing_padded = pad_sequences(testing_sequences,  maxlen = max_length, padding = 'post', truncating=trunc_type)"
      ],
      "execution_count": 0,
      "outputs": []
    },
    {
      "cell_type": "markdown",
      "metadata": {
        "id": "5uDT560y4Unh",
        "colab_type": "text"
      },
      "source": [
        "### En este notebook vamos a implementar por primera vez LSTM networks...\n",
        "\n"
      ]
    },
    {
      "cell_type": "code",
      "metadata": {
        "id": "hDC052bnKEAV",
        "colab_type": "code",
        "colab": {}
      },
      "source": [
        "# Haremos un modelo, donde el segundo layer es un LSTM. Previamente tengo que cargar mi data y hacer el padding y tokenizer.\n",
        "\n",
        "model = tf.keras.Sequential([\n",
        "    tf.keras.layers.Embedding(vocab_size, 64),\n",
        "    tf.keras.layers.Bidirectional(tf.keras.layers.LSTM(64)), #Este parámetro me dice el # de outputs que quiero\n",
        "    tf.keras.layers.Dense(64, activation='relu'),\n",
        "    tf.keras.layers.Dense(1, activation='sigmoid')\n",
        "])"
      ],
      "execution_count": 0,
      "outputs": []
    },
    {
      "cell_type": "code",
      "metadata": {
        "id": "Ib_VfkI9MsVT",
        "colab_type": "code",
        "colab": {}
      },
      "source": [
        "# Nota que el output del bidireccional es 128. Lo dobla del input.\n",
        "\n",
        "#Ahora, podemos alimentar un LSTM junto con otro:\n",
        "\n",
        "model2 = tf.keras.Sequential([\n",
        "    tf.keras.layers.Embedding(vocab_size, 64),\n",
        "    tf.keras.layers.Bidirectional(tf.keras.layers.LSTM(64, return_sequences=True)), #El return_sequences me asegura que el output de esta N coincida con el de la sgte.\n",
        "    tf.keras.layers.Bidirectional(tf.keras.layers.LSTM(32)),\n",
        "    tf.keras.layers.Dense(64, activation='relu'),\n",
        "    tf.keras.layers.Dense(1, activation='sigmoid')\n",
        "])"
      ],
      "execution_count": 0,
      "outputs": []
    },
    {
      "cell_type": "markdown",
      "metadata": {
        "id": "obvJ-94COiCx",
        "colab_type": "text"
      },
      "source": [
        "Ahora vamos a entrenar estas redes\n"
      ]
    },
    {
      "cell_type": "code",
      "metadata": {
        "id": "_sn75BWtNZ2A",
        "colab_type": "code",
        "colab": {
          "base_uri": "https://localhost:8080/",
          "height": 1000
        },
        "outputId": "21cc71ac-e110-43b3-fede-f98743faae22"
      },
      "source": [
        "model.compile(loss='binary_crossentropy',optimizer='adam',metrics=['accuracy'])\n",
        "num_epochs=30\n",
        "history = model.fit(training_padded, training_labels, epochs=num_epochs,\n",
        "                    validation_data=(testing_padded, testing_labels), verbose=2)"
      ],
      "execution_count": 15,
      "outputs": [
        {
          "output_type": "stream",
          "text": [
            "Train on 20000 samples, validate on 6709 samples\n",
            "Epoch 1/30\n",
            "20000/20000 - 16s - loss: 0.3838 - accuracy: 0.8188 - val_loss: 0.3346 - val_accuracy: 0.8568\n",
            "Epoch 2/30\n",
            "20000/20000 - 8s - loss: 0.1945 - accuracy: 0.9227 - val_loss: 0.3741 - val_accuracy: 0.8493\n",
            "Epoch 3/30\n",
            "20000/20000 - 8s - loss: 0.1065 - accuracy: 0.9610 - val_loss: 0.4765 - val_accuracy: 0.8453\n",
            "Epoch 4/30\n",
            "20000/20000 - 8s - loss: 0.0583 - accuracy: 0.9805 - val_loss: 0.5616 - val_accuracy: 0.8383\n",
            "Epoch 5/30\n",
            "20000/20000 - 8s - loss: 0.0375 - accuracy: 0.9868 - val_loss: 0.6509 - val_accuracy: 0.8454\n",
            "Epoch 6/30\n",
            "20000/20000 - 8s - loss: 0.0189 - accuracy: 0.9941 - val_loss: 0.8628 - val_accuracy: 0.8353\n",
            "Epoch 7/30\n",
            "20000/20000 - 8s - loss: 0.0177 - accuracy: 0.9940 - val_loss: 0.8207 - val_accuracy: 0.8337\n",
            "Epoch 8/30\n",
            "20000/20000 - 8s - loss: 0.0154 - accuracy: 0.9951 - val_loss: 0.9003 - val_accuracy: 0.8353\n",
            "Epoch 9/30\n",
            "20000/20000 - 8s - loss: 0.0082 - accuracy: 0.9977 - val_loss: 1.0222 - val_accuracy: 0.8363\n",
            "Epoch 10/30\n",
            "20000/20000 - 8s - loss: 0.0071 - accuracy: 0.9977 - val_loss: 1.0534 - val_accuracy: 0.8389\n",
            "Epoch 11/30\n",
            "20000/20000 - 8s - loss: 0.0096 - accuracy: 0.9969 - val_loss: 0.9690 - val_accuracy: 0.8374\n",
            "Epoch 12/30\n",
            "20000/20000 - 8s - loss: 0.0083 - accuracy: 0.9972 - val_loss: 1.0626 - val_accuracy: 0.8302\n",
            "Epoch 13/30\n",
            "20000/20000 - 8s - loss: 0.0067 - accuracy: 0.9977 - val_loss: 1.1270 - val_accuracy: 0.8304\n",
            "Epoch 14/30\n",
            "20000/20000 - 8s - loss: 0.0048 - accuracy: 0.9985 - val_loss: 1.1837 - val_accuracy: 0.8259\n",
            "Epoch 15/30\n",
            "20000/20000 - 8s - loss: 0.0031 - accuracy: 0.9990 - val_loss: 1.3200 - val_accuracy: 0.8304\n",
            "Epoch 16/30\n",
            "20000/20000 - 8s - loss: 0.0046 - accuracy: 0.9986 - val_loss: 1.2301 - val_accuracy: 0.8322\n",
            "Epoch 17/30\n",
            "20000/20000 - 8s - loss: 0.0053 - accuracy: 0.9980 - val_loss: 1.1732 - val_accuracy: 0.8329\n",
            "Epoch 18/30\n",
            "20000/20000 - 8s - loss: 0.0047 - accuracy: 0.9984 - val_loss: 1.2451 - val_accuracy: 0.8320\n",
            "Epoch 19/30\n",
            "20000/20000 - 8s - loss: 0.0020 - accuracy: 0.9994 - val_loss: 1.3624 - val_accuracy: 0.8317\n",
            "Epoch 20/30\n",
            "20000/20000 - 8s - loss: 0.0013 - accuracy: 0.9995 - val_loss: 1.4137 - val_accuracy: 0.8289\n",
            "Epoch 21/30\n",
            "20000/20000 - 8s - loss: 0.0011 - accuracy: 0.9996 - val_loss: 1.4074 - val_accuracy: 0.8308\n",
            "Epoch 22/30\n",
            "20000/20000 - 8s - loss: 0.0015 - accuracy: 0.9995 - val_loss: 1.3944 - val_accuracy: 0.8320\n",
            "Epoch 23/30\n",
            "20000/20000 - 8s - loss: 0.0027 - accuracy: 0.9992 - val_loss: 1.2859 - val_accuracy: 0.8353\n",
            "Epoch 24/30\n",
            "20000/20000 - 8s - loss: 0.0046 - accuracy: 0.9983 - val_loss: 1.2965 - val_accuracy: 0.8289\n",
            "Epoch 25/30\n",
            "20000/20000 - 8s - loss: 0.0027 - accuracy: 0.9991 - val_loss: 1.2136 - val_accuracy: 0.8296\n",
            "Epoch 26/30\n",
            "20000/20000 - 8s - loss: 0.0013 - accuracy: 0.9995 - val_loss: 1.4678 - val_accuracy: 0.8316\n",
            "Epoch 27/30\n",
            "20000/20000 - 8s - loss: 0.0018 - accuracy: 0.9995 - val_loss: 1.4066 - val_accuracy: 0.8265\n",
            "Epoch 28/30\n",
            "20000/20000 - 8s - loss: 0.0013 - accuracy: 0.9995 - val_loss: 1.5104 - val_accuracy: 0.8316\n",
            "Epoch 29/30\n",
            "20000/20000 - 8s - loss: 9.5436e-04 - accuracy: 0.9995 - val_loss: 1.5045 - val_accuracy: 0.8301\n",
            "Epoch 30/30\n",
            "20000/20000 - 8s - loss: 6.7469e-04 - accuracy: 0.9996 - val_loss: 1.6266 - val_accuracy: 0.8289\n"
          ],
          "name": "stdout"
        }
      ]
    },
    {
      "cell_type": "code",
      "metadata": {
        "id": "PWtYuZkFQT9q",
        "colab_type": "code",
        "colab": {}
      },
      "source": [
        "import matplotlib.pyplot as plt\n",
        "def plot_graphs(history, string):\n",
        "  plt.plot(history.history[string])\n",
        "  plt.plot(history.history['val_'+string])\n",
        "  plt.xlabel('Epochs')\n",
        "  plt.ylabel(string)\n",
        "  plt.legend([string, 'val_'+string])\n",
        "  plt.show()"
      ],
      "execution_count": 0,
      "outputs": []
    },
    {
      "cell_type": "code",
      "metadata": {
        "id": "EAHtdExESd4I",
        "colab_type": "code",
        "colab": {
          "base_uri": "https://localhost:8080/",
          "height": 279
        },
        "outputId": "d7195615-f146-46f3-f657-c42a03266920"
      },
      "source": [
        "plot_graphs(history, 'accuracy')"
      ],
      "execution_count": 23,
      "outputs": [
        {
          "output_type": "display_data",
          "data": {
            "image/png": "[encoded data removed]",
            "text/plain": [
              "<Figure size 432x288 with 1 Axes>"
            ]
          },
          "metadata": {
            "tags": []
          }
        }
      ]
    },
    {
      "cell_type": "code",
      "metadata": {
        "id": "ht6rDdQcShpM",
        "colab_type": "code",
        "colab": {
          "base_uri": "https://localhost:8080/",
          "height": 279
        },
        "outputId": "ee144b86-e576-45b6-af0a-27dba5b5f65c"
      },
      "source": [
        "plot_graphs(history, 'loss')"
      ],
      "execution_count": 24,
      "outputs": [
        {
          "output_type": "display_data",
          "data": {
            "image/png": "[encoded data removed]",
            "text/plain": [
              "<Figure size 432x288 with 1 Axes>"
            ]
          },
          "metadata": {
            "tags": []
          }
        }
      ]
    },
    {
      "cell_type": "code",
      "metadata": {
        "id": "bznHsUD9SsO1",
        "colab_type": "code",
        "colab": {}
      },
      "source": [
        ""
      ],
      "execution_count": 0,
      "outputs": []
    },
    {
      "cell_type": "markdown",
      "metadata": {
        "id": "T6rXYnoR0_zR",
        "colab_type": "text"
      },
      "source": [
        "Ahora, qué pasaría si uso una red convolucional y aparte una red GRU? \n"
      ]
    },
    {
      "cell_type": "code",
      "metadata": {
        "id": "NtK4uOyR1Ezl",
        "colab_type": "code",
        "colab": {}
      },
      "source": [
        "# Model Definition with Conv1D\n",
        "model3 = tf.keras.Sequential([\n",
        "    tf.keras.layers.Embedding(vocab_size, embedding_dim, input_length=max_length),\n",
        "    tf.keras.layers.Conv1D(128, 5, activation='relu'),\n",
        "    tf.keras.layers.GlobalAveragePooling1D(),\n",
        "    tf.keras.layers.Dense(6, activation='relu'),\n",
        "    tf.keras.layers.Dense(1, activation='sigmoid')\n",
        "])\n",
        "model3.compile(loss='binary_crossentropy',optimizer='adam',metrics=['accuracy'])\n",
        "model3.summary()"
      ],
      "execution_count": 0,
      "outputs": []
    },
    {
      "cell_type": "code",
      "metadata": {
        "id": "Am_Dpn-Q1KlX",
        "colab_type": "code",
        "colab": {}
      },
      "source": [
        "model4 = tf.keras.Sequential([\n",
        "    tf.keras.layers.Embedding(vocab_size, embedding_dim, input_length=max_length),\n",
        "    tf.keras.layers.Bidirectional(tf.keras.layers.GRU(32)),\n",
        "    tf.keras.layers.Dense(6, activation='relu'),\n",
        "    tf.keras.layers.Dense(1, activation='sigmoid')\n",
        "])\n",
        "model4.compile(loss='binary_crossentropy',optimizer='adam',metrics=['accuracy'])\n",
        "model4.summary()"
      ],
      "execution_count": 0,
      "outputs": []
    }
  ]
}