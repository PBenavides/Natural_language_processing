{
  "nbformat": 4,
  "nbformat_minor": 0,
  "metadata": {
    "colab": {
      "name": "Semana02-2.ipynb",
      "provenance": []
    },
    "kernelspec": {
      "name": "python3",
      "display_name": "Python 3"
    },
    "accelerator": "GPU"
  },
  "cells": [
    {
      "cell_type": "code",
      "metadata": {
        "id": "HewCyRhqd4CC",
        "colab_type": "code",
        "colab": {
          "base_uri": "https://localhost:8080/",
          "height": 34
        },
        "outputId": "e05e38d2-3da8-492c-b3cb-0079d7dd1c8b"
      },
      "source": [
        "import tensorflow as tf\n",
        "print(tf.__version__)"
      ],
      "execution_count": 1,
      "outputs": [
        {
          "output_type": "stream",
          "text": [
            "2.1.0\n"
          ],
          "name": "stdout"
        }
      ]
    },
    {
      "cell_type": "markdown",
      "metadata": {
        "id": "XFW02-i1ed-C",
        "colab_type": "text"
      },
      "source": [
        "### En este notebook vamos a probar los word embeddings pero con la data de sarcasmo. Recuerda que la data de sacarmos la sacamos en json. "
      ]
    },
    {
      "cell_type": "code",
      "metadata": {
        "id": "43OzOJu5eoCv",
        "colab_type": "code",
        "colab": {}
      },
      "source": [
        "import json\n",
        "import numpy as np\n",
        "\n",
        "from tensorflow.keras.preprocessing.text import Tokenizer\n",
        "from tensorflow.keras.preprocessing.sequence import pad_sequences"
      ],
      "execution_count": 0,
      "outputs": []
    },
    {
      "cell_type": "code",
      "metadata": {
        "id": "52mRrJUCd-ZM",
        "colab_type": "code",
        "colab": {}
      },
      "source": [
        "# Tenemos que sacar los hiperparámetros por buenas prácticas:\n",
        "vocab_size = 10000\n",
        "embedding_dim = 16\n",
        "max_length = 32 #Esto me sirve para declarar el # máximo de números que quiero en mi lista (oracion)\n",
        "#EL max_length es necesario dado que como lo pondré en unra red nn, necesito una estandarización del tamaño de inputs\n",
        "trunc_type = 'post' #Cómo voy a truncar las oraciones que tengan más de 32 palabras\n",
        "padding_type = 'post' #De qué forma voy a paddear\n",
        "oov_tok = \"<OOV>\"\n",
        "training_size = 20000"
      ],
      "execution_count": 0,
      "outputs": []
    },
    {
      "cell_type": "code",
      "metadata": {
        "id": "D97RNzMee-4o",
        "colab_type": "code",
        "colab": {
          "base_uri": "https://localhost:8080/",
          "height": 204
        },
        "outputId": "4e2088b9-f11d-48ef-929c-f91a5cf50de7"
      },
      "source": [
        "!wget --no-check-certificate \\\n",
        "  https://storage.googleapis.com/laurencemoroney-blog.appspot.com/sarcasm.json \\\n",
        "  -O /tmp/sarcasm.json"
      ],
      "execution_count": 3,
      "outputs": [
        {
          "output_type": "stream",
          "text": [
            "--2020-02-06 21:52:16--  https://storage.googleapis.com/laurencemoroney-blog.appspot.com/sarcasm.json\n",
            "Resolving storage.googleapis.com (storage.googleapis.com)... 108.177.111.128, 2607:f8b0:4001:c12::80\n",
            "Connecting to storage.googleapis.com (storage.googleapis.com)|108.177.111.128|:443... connected.\n",
            "HTTP request sent, awaiting response... 200 OK\n",
            "Length: 5643545 (5.4M) [application/json]\n",
            "Saving to: ‘/tmp/sarcasm.json’\n",
            "\n",
            "\r/tmp/sarcasm.json     0%[                    ]       0  --.-KB/s               \r/tmp/sarcasm.json   100%[===================>]   5.38M  --.-KB/s    in 0.09s   \n",
            "\n",
            "2020-02-06 21:52:16 (59.1 MB/s) - ‘/tmp/sarcasm.json’ saved [5643545/5643545]\n",
            "\n"
          ],
          "name": "stdout"
        }
      ]
    },
    {
      "cell_type": "code",
      "metadata": {
        "id": "IIBTuDinfSy-",
        "colab_type": "code",
        "colab": {}
      },
      "source": [
        "#Abrimos el archivo de sarcamos en json y lo leemos declarandolo como datastore\n",
        "with open(\"/tmp/sarcasm.json\",\"r\") as f:\n",
        "  datastore = json.load(f)\n",
        "\n",
        "#Ahora, dividiremos ese archivo en json en diferentes listas... estas listas será las sgtes.\n",
        "sentences = []\n",
        "labels = []\n",
        "urls = []\n",
        "# Como la data está en json, voy a sacarla a listas para poder procesarla con mi Tokenizer\n",
        "for item in datastore:\n",
        "  sentences.append(item['headline'])\n",
        "  labels.append(item['is_sarcastic'])\n",
        "  urls.append(item['article_link'])"
      ],
      "execution_count": 0,
      "outputs": []
    },
    {
      "cell_type": "code",
      "metadata": {
        "id": "Jec5G1kqfleO",
        "colab_type": "code",
        "colab": {}
      },
      "source": [
        "# Ahora ya tengo mi data en listas, vamos a dividirla en oraciones de entrenamiento y de testeo\n",
        "\n",
        "training_sentences = sentences[0:training_size]\n",
        "testing_sentences = sentences[training_size:]\n",
        "\n",
        "training_labels = np.array(labels[0:training_size])\n",
        "testing_labels = np.array(labels[training_size:])\n",
        "\n",
        "#Hasta acá ya tendría el equivalente a mi X_train, X_test, y_train, y_test\n",
        "#Ahora, los voy a secuenciar y paddear.\n",
        "tokenizer = Tokenizer(num_words=vocab_size, oov_token=oov_tok)\n",
        "tokenizer.fit_on_texts(training_sentences)\n",
        "\n",
        "#Lo convierto a diccionario una vez tokenizado... con .word_index\n",
        "word_index = tokenizer.word_index "
      ],
      "execution_count": 0,
      "outputs": []
    },
    {
      "cell_type": "code",
      "metadata": {
        "id": "rWr8iNxWgtOa",
        "colab_type": "code",
        "colab": {
          "base_uri": "https://localhost:8080/",
          "height": 85
        },
        "outputId": "27488925-faec-4185-c669-202695444893"
      },
      "source": [
        "#Ahora, voy a crear las secuencias...\n",
        "training_sequences = tokenizer.texts_to_sequences(training_sentences)\n",
        "training_sequences[1:5]\n",
        "#Como vemos, son las oraciones tokenizadas de acuerdo al word_index y en unas listas"
      ],
      "execution_count": 14,
      "outputs": [
        {
          "output_type": "execute_result",
          "data": {
            "text/plain": [
              "[[4, 6840, 3096, 3097, 23, 2, 161, 1, 390, 2842, 6, 251, 9, 889],\n",
              " [153, 890, 2, 891, 1445, 2215, 595, 5650, 221, 133, 36, 45, 2, 8864],\n",
              " [1252, 38, 213, 382, 2, 1572, 29, 288, 23, 10, 2405, 1446, 5651, 958],\n",
              " [715, 672, 5652, 1043, 8865, 662, 553, 5, 4, 92, 1253, 90]]"
            ]
          },
          "metadata": {
            "tags": []
          },
          "execution_count": 14
        }
      ]
    },
    {
      "cell_type": "code",
      "metadata": {
        "id": "mCge8PijhS44",
        "colab_type": "code",
        "colab": {}
      },
      "source": [
        "#Ahora vamos a paddear estas tokenizaciones\n",
        "training_padded = pad_sequences(training_sequences, maxlen = max_length, padding = 'post', truncating = trunc_type)\n",
        "\n",
        "testing_sequences = tokenizer.texts_to_sequences(testing_sentences)\n",
        "testing_padded = pad_sequences(testing_sequences,  maxlen = max_length, padding = 'post', truncating=trunc_type)"
      ],
      "execution_count": 0,
      "outputs": []
    },
    {
      "cell_type": "code",
      "metadata": {
        "id": "lqzPkUqTh96f",
        "colab_type": "code",
        "colab": {}
      },
      "source": [
        "# Ahora toca hacer el modelo, entrenar a la red neuronal\n",
        "\"\"\"\n",
        "NOTA QUE:\n",
        "La PRIMERA CAPA ES UN EMBEDDING, \n",
        "La SEGUNDA CAPA ES UN GLOBAL AVERAGE POOLING 1D,\n",
        "De ahi viene la red neuronal.\n",
        "\"\"\"\n",
        "\n",
        "model = tf.keras.Sequential([\n",
        "    tf.keras.layers.Embedding(vocab_size, embedding_dim, input_length=max_length),\n",
        "    tf.keras.layers.GlobalAveragePooling1D(),\n",
        "    tf.keras.layers.Dense(24, activation='relu'),\n",
        "    tf.keras.layers.Dense(1, activation='sigmoid')\n",
        "])\n",
        "\n",
        "#Recuerda que el binary_crossentropy es porque estamos clasificando solo 2 clases.\n",
        "model.compile(loss='binary_crossentropy',optimizer='adam',metrics=['accuracy'])"
      ],
      "execution_count": 0,
      "outputs": []
    },
    {
      "cell_type": "code",
      "metadata": {
        "id": "LVKoW4Vbi2OR",
        "colab_type": "code",
        "colab": {
          "base_uri": "https://localhost:8080/",
          "height": 1000
        },
        "outputId": "0bd8877d-bae1-426f-b662-57345e7c2b13"
      },
      "source": [
        "num_epochs = 30\n",
        "# Al modelo entrenado es usual que le llamemos history. Luego de eso le pasaremos el método history para graficas sus métricas...\n",
        "history = model.fit(training_padded, training_labels, epochs=num_epochs,\n",
        "                    validation_data=(testing_padded, testing_labels), verbose=2)"
      ],
      "execution_count": 37,
      "outputs": [
        {
          "output_type": "stream",
          "text": [
            "Train on 20000 samples, validate on 6709 samples\n",
            "Epoch 1/30\n",
            "20000/20000 - 5s - loss: 0.5629 - accuracy: 0.7081 - val_loss: 0.4013 - val_accuracy: 0.8229\n",
            "Epoch 2/30\n",
            "20000/20000 - 3s - loss: 0.3117 - accuracy: 0.8737 - val_loss: 0.3508 - val_accuracy: 0.8478\n",
            "Epoch 3/30\n",
            "20000/20000 - 3s - loss: 0.2336 - accuracy: 0.9086 - val_loss: 0.3390 - val_accuracy: 0.8568\n",
            "Epoch 4/30\n",
            "20000/20000 - 3s - loss: 0.1884 - accuracy: 0.9280 - val_loss: 0.3571 - val_accuracy: 0.8536\n",
            "Epoch 5/30\n",
            "20000/20000 - 3s - loss: 0.1561 - accuracy: 0.9431 - val_loss: 0.3864 - val_accuracy: 0.8511\n",
            "Epoch 6/30\n",
            "20000/20000 - 3s - loss: 0.1325 - accuracy: 0.9536 - val_loss: 0.4144 - val_accuracy: 0.8511\n",
            "Epoch 7/30\n",
            "20000/20000 - 3s - loss: 0.1140 - accuracy: 0.9600 - val_loss: 0.4575 - val_accuracy: 0.8393\n",
            "Epoch 8/30\n",
            "20000/20000 - 3s - loss: 0.0979 - accuracy: 0.9673 - val_loss: 0.4895 - val_accuracy: 0.8419\n",
            "Epoch 9/30\n",
            "20000/20000 - 3s - loss: 0.0847 - accuracy: 0.9726 - val_loss: 0.5325 - val_accuracy: 0.8378\n",
            "Epoch 10/30\n",
            "20000/20000 - 3s - loss: 0.0742 - accuracy: 0.9756 - val_loss: 0.5925 - val_accuracy: 0.8290\n",
            "Epoch 11/30\n",
            "20000/20000 - 3s - loss: 0.0638 - accuracy: 0.9804 - val_loss: 0.6274 - val_accuracy: 0.8311\n",
            "Epoch 12/30\n",
            "20000/20000 - 3s - loss: 0.0566 - accuracy: 0.9821 - val_loss: 0.6742 - val_accuracy: 0.8255\n",
            "Epoch 13/30\n",
            "20000/20000 - 3s - loss: 0.0494 - accuracy: 0.9860 - val_loss: 0.7286 - val_accuracy: 0.8217\n",
            "Epoch 14/30\n",
            "20000/20000 - 3s - loss: 0.0430 - accuracy: 0.9879 - val_loss: 0.7899 - val_accuracy: 0.8210\n",
            "Epoch 15/30\n",
            "20000/20000 - 3s - loss: 0.0388 - accuracy: 0.9890 - val_loss: 0.8310 - val_accuracy: 0.8188\n",
            "Epoch 16/30\n",
            "20000/20000 - 3s - loss: 0.0343 - accuracy: 0.9898 - val_loss: 0.8857 - val_accuracy: 0.8158\n",
            "Epoch 17/30\n",
            "20000/20000 - 3s - loss: 0.0301 - accuracy: 0.9917 - val_loss: 0.9333 - val_accuracy: 0.8150\n",
            "Epoch 18/30\n",
            "20000/20000 - 3s - loss: 0.0266 - accuracy: 0.9923 - val_loss: 1.0063 - val_accuracy: 0.8117\n",
            "Epoch 19/30\n",
            "20000/20000 - 3s - loss: 0.0240 - accuracy: 0.9934 - val_loss: 1.0609 - val_accuracy: 0.8103\n",
            "Epoch 20/30\n",
            "20000/20000 - 3s - loss: 0.0201 - accuracy: 0.9945 - val_loss: 1.1342 - val_accuracy: 0.8101\n",
            "Epoch 21/30\n",
            "20000/20000 - 3s - loss: 0.0181 - accuracy: 0.9953 - val_loss: 1.2004 - val_accuracy: 0.8050\n",
            "Epoch 22/30\n",
            "20000/20000 - 3s - loss: 0.0169 - accuracy: 0.9955 - val_loss: 1.2607 - val_accuracy: 0.8061\n",
            "Epoch 23/30\n",
            "20000/20000 - 3s - loss: 0.0149 - accuracy: 0.9961 - val_loss: 1.3311 - val_accuracy: 0.8055\n",
            "Epoch 24/30\n",
            "20000/20000 - 3s - loss: 0.0151 - accuracy: 0.9956 - val_loss: 1.3977 - val_accuracy: 0.8055\n",
            "Epoch 25/30\n",
            "20000/20000 - 3s - loss: 0.0128 - accuracy: 0.9962 - val_loss: 1.4523 - val_accuracy: 0.8040\n",
            "Epoch 26/30\n",
            "20000/20000 - 3s - loss: 0.0120 - accuracy: 0.9966 - val_loss: 1.5188 - val_accuracy: 0.8038\n",
            "Epoch 27/30\n",
            "20000/20000 - 3s - loss: 0.0098 - accuracy: 0.9974 - val_loss: 1.6069 - val_accuracy: 0.8038\n",
            "Epoch 28/30\n",
            "20000/20000 - 3s - loss: 0.0087 - accuracy: 0.9974 - val_loss: 1.6338 - val_accuracy: 0.8047\n",
            "Epoch 29/30\n",
            "20000/20000 - 3s - loss: 0.0084 - accuracy: 0.9976 - val_loss: 1.7183 - val_accuracy: 0.8021\n",
            "Epoch 30/30\n",
            "20000/20000 - 3s - loss: 0.0075 - accuracy: 0.9978 - val_loss: 1.7804 - val_accuracy: 0.8035\n"
          ],
          "name": "stdout"
        }
      ]
    },
    {
      "cell_type": "markdown",
      "metadata": {
        "id": "UxBUoFFboY4S",
        "colab_type": "text"
      },
      "source": [
        "### Vamos a plotear los resultados\n"
      ]
    },
    {
      "cell_type": "code",
      "metadata": {
        "id": "mU7FhlRLm5qC",
        "colab_type": "code",
        "colab": {}
      },
      "source": [
        "import matplotlib.pyplot as plt\n",
        "\n",
        "def plot_graphs(history, string):\n",
        "  plt.plot(history.history[string])\n",
        "  plt.plot(history.history['val_'+string])\n",
        "  plt.xlabel(\"Epocas\")\n",
        "  plt.ylabel(string)\n",
        "  plt.legend([string, 'val_'+string])\n",
        "  plt.show()"
      ],
      "execution_count": 0,
      "outputs": []
    },
    {
      "cell_type": "code",
      "metadata": {
        "colab_type": "code",
        "outputId": "ef02b4e6-9d8b-48f8-e691-eabe1f2caf12",
        "id": "8h5WHnTam6z0",
        "colab": {
          "base_uri": "https://localhost:8080/",
          "height": 279
        }
      },
      "source": [
        "plot_graphs(history, \"accuracy\")"
      ],
      "execution_count": 43,
      "outputs": [
        {
          "output_type": "display_data",
          "data": {
            "image/png": "[encoded data removed]",
            "text/plain": [
              "<Figure size 432x288 with 1 Axes>"
            ]
          },
          "metadata": {
            "tags": []
          }
        }
      ]
    },
    {
      "cell_type": "code",
      "metadata": {
        "id": "NzvxYxnyl7Z_",
        "colab_type": "code",
        "colab": {
          "base_uri": "https://localhost:8080/",
          "height": 279
        },
        "outputId": "e737c057-09a8-41ba-e197-8883acfe1033"
      },
      "source": [
        "plot_graphs(history, \"loss\")\n"
      ],
      "execution_count": 44,
      "outputs": [
        {
          "output_type": "display_data",
          "data": {
            "image/png": "[encoded data removed]",
            "text/plain": [
              "<Figure size 432x288 with 1 Axes>"
            ]
          },
          "metadata": {
            "tags": []
          }
        }
      ]
    },
    {
      "cell_type": "markdown",
      "metadata": {
        "id": "f9zourkypPVh",
        "colab_type": "text"
      },
      "source": [
        "## Observamos principalmente que en el training, el accuracy sube hasta llegar casi a uno, pero en **la validacion** baja pareciendo mantenerse constante... \n",
        "\n",
        "## Por otro lado, en el loss, durante el entrenamiento baja, pero en la validación sube casi exponencialmente\n",
        "\n",
        "## El objetivo sería probar con diferentes hiperparámetros, hasta que el % de accuracy sea de 90% y que el loss no suba de manera muy empinada...\n"
      ]
    },
    {
      "cell_type": "code",
      "metadata": {
        "id": "m_lNS3DClxFM",
        "colab_type": "code",
        "colab": {
          "base_uri": "https://localhost:8080/",
          "height": 136
        },
        "outputId": "1bf0e8be-752a-45b8-feb9-6993b11757fe"
      },
      "source": [
        "model.predict_classes(testing_padded)"
      ],
      "execution_count": 45,
      "outputs": [
        {
          "output_type": "execute_result",
          "data": {
            "text/plain": [
              "array([[1],\n",
              "       [0],\n",
              "       [0],\n",
              "       ...,\n",
              "       [0],\n",
              "       [0],\n",
              "       [0]], dtype=int32)"
            ]
          },
          "metadata": {
            "tags": []
          },
          "execution_count": 45
        }
      ]
    },
    {
      "cell_type": "code",
      "metadata": {
        "id": "FBlyBVeFp4K5",
        "colab_type": "code",
        "colab": {
          "base_uri": "https://localhost:8080/",
          "height": 34
        },
        "outputId": "2385e1c5-61ea-48e4-e56e-12f42c5f08a5"
      },
      "source": [
        "testing_labels"
      ],
      "execution_count": 46,
      "outputs": [
        {
          "output_type": "execute_result",
          "data": {
            "text/plain": [
              "array([1, 0, 0, ..., 0, 0, 0])"
            ]
          },
          "metadata": {
            "tags": []
          },
          "execution_count": 46
        }
      ]
    }
  ]
}